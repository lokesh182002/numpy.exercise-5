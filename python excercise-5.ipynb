{
 "cells": [
  {
   "cell_type": "code",
   "execution_count": 12,
   "id": "bebf830f",
   "metadata": {},
   "outputs": [
    {
     "name": "stdout",
     "output_type": "stream",
     "text": [
      "[[0 1]\n",
      " [2 3]]\n",
      "[[4 5]\n",
      " [6 7]]\n",
      "[[ 4  6]\n",
      " [ 8 10]]\n",
      "subtraction:\n",
      "[[-4 -4]\n",
      " [-4 -4]]\n",
      "multiplication\n",
      "[[ 0  5]\n",
      " [12 21]]\n",
      "division:\n",
      "[[0.   0.25]\n",
      " [0.5  0.75]]\n"
     ]
    }
   ],
   "source": [
    "import numpy as np\n",
    "a1=np.arange(4).reshape(2,2)\n",
    "print(a1)\n",
    "a2=np.arange(4,8).reshape(2,2)\n",
    "print(a2)\n",
    "arr=np.add(a1,a2)\n",
    "print(arr)\n",
    "print(\"subtraction:\")\n",
    "print(np.subtract(a1,a2))\n",
    "print(\"multiplication\")\n",
    "print(np.multiply(a1,a2))\n",
    "print(\"division:\")\n",
    "print(np.divide(a1,4))"
   ]
  },
  {
   "cell_type": "code",
   "execution_count": 3,
   "id": "bfd2b6f9",
   "metadata": {},
   "outputs": [
    {
     "name": "stdout",
     "output_type": "stream",
     "text": [
      "[[0.  0.5]\n",
      " [1.  1.5]\n",
      " [2.  2.5]\n",
      " [3.  3.5]]\n"
     ]
    }
   ],
   "source": [
    "import numpy as np\n",
    "a=np.arange(8).reshape(4,2)\n",
    "b=np.divide(a,2)\n",
    "print(b)\n"
   ]
  },
  {
   "cell_type": "code",
   "execution_count": 5,
   "id": "112c6949",
   "metadata": {},
   "outputs": [
    {
     "name": "stdout",
     "output_type": "stream",
     "text": [
      "[ 0  1  4  9 16 25]\n"
     ]
    }
   ],
   "source": [
    "import numpy as np\n",
    "a=np.arange(6)\n",
    "b=np.power(a,2)\n",
    "print(b)"
   ]
  },
  {
   "cell_type": "code",
   "execution_count": 9,
   "id": "d6d4dc75",
   "metadata": {},
   "outputs": [
    {
     "name": "stdout",
     "output_type": "stream",
     "text": [
      "[-20 -19 -18 -17 -16 -15 -14 -13 -12 -11]\n",
      "[20 19 18 17 16 15 14 13 12 11]\n"
     ]
    }
   ],
   "source": [
    "import numpy as np\n",
    "a=np.arange(-20,-10)\n",
    "print(a)\n",
    "b=np.abs(a)\n",
    "print(b)"
   ]
  },
  {
   "cell_type": "code",
   "execution_count": 26,
   "id": "bffa2097",
   "metadata": {},
   "outputs": [
    {
     "name": "stdout",
     "output_type": "stream",
     "text": [
      "[0.32013776 0.18074856 0.70924794 0.16083133]\n"
     ]
    },
    {
     "data": {
      "text/plain": [
       "array([0.3, 0.2, 0.7, 0.2])"
      ]
     },
     "execution_count": 26,
     "metadata": {},
     "output_type": "execute_result"
    }
   ],
   "source": [
    "import numpy as np\n",
    "a=np.random.rand(4)\n",
    "print (a)\n",
    "np.round(a,decimals=1)"
   ]
  },
  {
   "cell_type": "code",
   "execution_count": 34,
   "id": "c627656b",
   "metadata": {},
   "outputs": [
    {
     "name": "stdout",
     "output_type": "stream",
     "text": [
      "[2.   2.25 2.5  2.75 3.  ]\n",
      "[2. 2. 2. 2. 3.]\n",
      "[2. 3. 3. 3. 3.]\n",
      "[2. 2. 2. 2. 3.]\n"
     ]
    }
   ],
   "source": [
    "import numpy as np\n",
    "a=np.linspace(2.0,3.0,5)\n",
    "print(a)\n",
    "floor=np.floor(a)\n",
    "print(floor)\n",
    "c=np.ceil(a)\n",
    "print(c)\n",
    "t=np.trunc(a)\n",
    "print(t)"
   ]
  },
  {
   "cell_type": "code",
   "execution_count": 37,
   "id": "0800a079",
   "metadata": {},
   "outputs": [
    {
     "name": "stdout",
     "output_type": "stream",
     "text": [
      "[[ 0  1  2]\n",
      " [ 3  4  5]\n",
      " [ 6  7  8]\n",
      " [ 9 10 11]\n",
      " [12 13 14]]\n",
      "[[0 1]\n",
      " [2 3]\n",
      " [4 5]]\n",
      "[[ 10  13]\n",
      " [ 28  40]\n",
      " [ 46  67]\n",
      " [ 64  94]\n",
      " [ 82 121]]\n"
     ]
    }
   ],
   "source": [
    "import numpy as np\n",
    "a=np.arange(15).reshape(5,3)\n",
    "print(a)\n",
    "b=np.arange(6).reshape(3,2)\n",
    "print(b)\n",
    "c=np.dot(a,b)\n",
    "print(c)"
   ]
  },
  {
   "cell_type": "code",
   "execution_count": 42,
   "id": "beff7e8e",
   "metadata": {},
   "outputs": [
    {
     "name": "stdout",
     "output_type": "stream",
     "text": [
      "[ 90.  60.  45. 180.]\n",
      "[ 0.89399666 -0.30481062  0.85090352 -0.80115264]\n"
     ]
    }
   ],
   "source": [
    "import numpy as np\n",
    "arr=np.array([np.pi/2,np.pi/3,np.pi/4,np.pi])\n",
    "arr=np.degrees(arr)\n",
    "print(arr)\n",
    "a=np.sin(arr)\n",
    "print(a)"
   ]
  },
  {
   "cell_type": "code",
   "execution_count": 45,
   "id": "598b3a15",
   "metadata": {},
   "outputs": [
    {
     "data": {
      "text/plain": [
       "2.0"
      ]
     },
     "execution_count": 45,
     "metadata": {},
     "output_type": "execute_result"
    }
   ],
   "source": [
    "import numpy as np\n",
    "a=np.arange(5)\n",
    "np.median(a)"
   ]
  },
  {
   "cell_type": "code",
   "execution_count": 49,
   "id": "c393516f",
   "metadata": {},
   "outputs": [
    {
     "name": "stdout",
     "output_type": "stream",
     "text": [
      "mean of array\n",
      "50.0\n",
      "standard deviation\n",
      "34.16\n"
     ]
    }
   ],
   "source": [
    "import numpy as np\n",
    "a=np.arange(0,101,20)\n",
    "print(\"mean of array\")\n",
    "print(np.mean(a))\n",
    "print(\"standard deviation\")\n",
    "print(np.round(np.std(a),2))"
   ]
  },
  {
   "cell_type": "code",
   "execution_count": null,
   "id": "fe29a975",
   "metadata": {},
   "outputs": [],
   "source": []
  }
 ],
 "metadata": {
  "kernelspec": {
   "display_name": "Python 3",
   "language": "python",
   "name": "python3"
  },
  "language_info": {
   "codemirror_mode": {
    "name": "ipython",
    "version": 3
   },
   "file_extension": ".py",
   "mimetype": "text/x-python",
   "name": "python",
   "nbconvert_exporter": "python",
   "pygments_lexer": "ipython3",
   "version": "3.8.8"
  }
 },
 "nbformat": 4,
 "nbformat_minor": 5
}
